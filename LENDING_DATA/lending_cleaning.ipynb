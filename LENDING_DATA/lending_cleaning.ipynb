{
 "cells": [
  {
   "cell_type": "code",
   "execution_count": 1,
   "metadata": {},
   "outputs": [],
   "source": [
    "import pandas as pd\n",
    "import numpy as np"
   ]
  },
  {
   "cell_type": "code",
   "execution_count": 2,
   "metadata": {},
   "outputs": [
    {
     "name": "stdout",
     "output_type": "stream",
     "text": [
      "Shape of lending df:  (97, 14)\n"
     ]
    },
    {
     "data": {
      "text/html": [
       "<div>\n",
       "<style scoped>\n",
       "    .dataframe tbody tr th:only-of-type {\n",
       "        vertical-align: middle;\n",
       "    }\n",
       "\n",
       "    .dataframe tbody tr th {\n",
       "        vertical-align: top;\n",
       "    }\n",
       "\n",
       "    .dataframe thead th {\n",
       "        text-align: right;\n",
       "    }\n",
       "</style>\n",
       "<table border=\"1\" class=\"dataframe\">\n",
       "  <thead>\n",
       "    <tr style=\"text-align: right;\">\n",
       "      <th></th>\n",
       "      <th>Name of Lending Institution</th>\n",
       "      <th>HQ State</th>\n",
       "      <th>Rank</th>\n",
       "      <th>TA Ratio1</th>\n",
       "      <th>TBL Ratio1</th>\n",
       "      <th>Amount ($1,000)</th>\n",
       "      <th>Number</th>\n",
       "      <th>Lender Asset Size</th>\n",
       "      <th>Amount ($1,000).1</th>\n",
       "      <th>Number .1</th>\n",
       "      <th>Unnamed: 10</th>\n",
       "      <th>Amount ($1,000).2</th>\n",
       "      <th>Number .2</th>\n",
       "      <th>CC Amount/TA1</th>\n",
       "    </tr>\n",
       "  </thead>\n",
       "  <tbody>\n",
       "    <tr>\n",
       "      <th>0</th>\n",
       "      <td>NaN</td>\n",
       "      <td>NaN</td>\n",
       "      <td>(1)</td>\n",
       "      <td>(2)</td>\n",
       "      <td>(3)</td>\n",
       "      <td>(4)</td>\n",
       "      <td>(5)</td>\n",
       "      <td>(6)</td>\n",
       "      <td>(7)</td>\n",
       "      <td>(8)</td>\n",
       "      <td>NaN</td>\n",
       "      <td>(9)</td>\n",
       "      <td>(10)</td>\n",
       "      <td>(11)</td>\n",
       "    </tr>\n",
       "    <tr>\n",
       "      <th>1</th>\n",
       "      <td>American Express Co.</td>\n",
       "      <td>NY</td>\n",
       "      <td>1</td>\n",
       "      <td>0.238</td>\n",
       "      <td>1.000</td>\n",
       "      <td>1,63,50,038</td>\n",
       "      <td>36,03,226</td>\n",
       "      <td>&gt;$50B</td>\n",
       "      <td>1,63,18,089</td>\n",
       "      <td>36,03,088</td>\n",
       "      <td>NaN</td>\n",
       "      <td>31,949</td>\n",
       "      <td>138</td>\n",
       "      <td>0.28</td>\n",
       "    </tr>\n",
       "    <tr>\n",
       "      <th>2</th>\n",
       "      <td>First Citizens Banchares</td>\n",
       "      <td>NC</td>\n",
       "      <td>2</td>\n",
       "      <td>0.187</td>\n",
       "      <td>0.491</td>\n",
       "      <td>39,14,507</td>\n",
       "      <td>1,17,702</td>\n",
       "      <td>$10B-$50B</td>\n",
       "      <td>3,78,394</td>\n",
       "      <td>1,05,081</td>\n",
       "      <td>NaN</td>\n",
       "      <td>35,36,113</td>\n",
       "      <td>12,621</td>\n",
       "      <td>.</td>\n",
       "    </tr>\n",
       "    <tr>\n",
       "      <th>3</th>\n",
       "      <td>Wintrust Financial Corp.</td>\n",
       "      <td>IL</td>\n",
       "      <td>3</td>\n",
       "      <td>0.169</td>\n",
       "      <td>0.384</td>\n",
       "      <td>28,42,793</td>\n",
       "      <td>1,36,801</td>\n",
       "      <td>$10B-$50B</td>\n",
       "      <td>8,00,526</td>\n",
       "      <td>1,26,455</td>\n",
       "      <td>NaN</td>\n",
       "      <td>20,42,267</td>\n",
       "      <td>10,346</td>\n",
       "      <td>0</td>\n",
       "    </tr>\n",
       "    <tr>\n",
       "      <th>4</th>\n",
       "      <td>Zions Bancorp</td>\n",
       "      <td>UT</td>\n",
       "      <td>4</td>\n",
       "      <td>0.118</td>\n",
       "      <td>0.261</td>\n",
       "      <td>62,31,770</td>\n",
       "      <td>52,612</td>\n",
       "      <td>&gt;$50B</td>\n",
       "      <td>5,26,206</td>\n",
       "      <td>32,973</td>\n",
       "      <td>NaN</td>\n",
       "      <td>57,05,564</td>\n",
       "      <td>19,639</td>\n",
       "      <td>0</td>\n",
       "    </tr>\n",
       "  </tbody>\n",
       "</table>\n",
       "</div>"
      ],
      "text/plain": [
       "  Name of Lending Institution HQ State Rank TA Ratio1 TBL Ratio1  \\\n",
       "0                         NaN      NaN  (1)       (2)        (3)   \n",
       "1       American Express Co.       NY     1     0.238      1.000   \n",
       "2    First Citizens Banchares      NC     2     0.187      0.491   \n",
       "3    Wintrust Financial Corp.      IL     3     0.169      0.384   \n",
       "4               Zions Bancorp      UT     4     0.118      0.261   \n",
       "\n",
       "  Amount ($1,000)      Number        Lender Asset Size Amount ($1,000).1  \\\n",
       "0             (4)          (5)                     (6)               (7)   \n",
       "1    1,63,50,038    36,03,226    >$50B                      1,63,18,089    \n",
       "2      39,14,507     1,17,702    $10B-$50B                     3,78,394    \n",
       "3      28,42,793     1,36,801    $10B-$50B                     8,00,526    \n",
       "4      62,31,770       52,612    >$50B                         5,26,206    \n",
       "\n",
       "     Number .1  Unnamed: 10 Amount ($1,000).2 Number .2 CC Amount/TA1  \n",
       "0          (8)          NaN               (9)      (10)          (11)  \n",
       "1   36,03,088           NaN           31,949       138           0.28  \n",
       "2    1,05,081           NaN        35,36,113    12,621            .    \n",
       "3    1,26,455           NaN        20,42,267    10,346              0  \n",
       "4      32,973           NaN        57,05,564    19,639              0  "
      ]
     },
     "execution_count": 2,
     "metadata": {},
     "output_type": "execute_result"
    }
   ],
   "source": [
    "df = pd.read_csv(\"Lending_Data.csv\")\n",
    "print(\"Shape of lending df: \",df.shape)\n",
    "df.head()"
   ]
  },
  {
   "cell_type": "code",
   "execution_count": 3,
   "metadata": {},
   "outputs": [
    {
     "data": {
      "text/plain": [
       "Index(['Name of Lending Institution', 'HQ State', 'Rank', 'TA Ratio1',\n",
       "       'TBL Ratio1', 'Amount ($1,000)', 'Number ', 'Lender Asset Size',\n",
       "       'Amount ($1,000).1', 'Number .1', 'Unnamed: 10', 'Amount ($1,000).2',\n",
       "       'Number .2', 'CC Amount/TA1'],\n",
       "      dtype='object')"
      ]
     },
     "execution_count": 3,
     "metadata": {},
     "output_type": "execute_result"
    }
   ],
   "source": [
    "df.columns"
   ]
  },
  {
   "cell_type": "code",
   "execution_count": 4,
   "metadata": {},
   "outputs": [],
   "source": [
    "df.rename(columns = {'Amount ($1,000)':'Amount_in_1000$'}, inplace = True)\n",
    "df.rename(columns = {'Amount ($1,000).1':'Amount_in_1000$_1'}, inplace = True)\n",
    "df.rename(columns = {'Amount ($1,000).2':'Amount_in_1000$_2'}, inplace = True)\n",
    "\n",
    "df.rename(columns = {'Number ':'Number'}, inplace = True)\n",
    "df.rename(columns = {'Number .1':'Number_1'}, inplace = True)\n",
    "df.rename(columns = {'Number .2':'Number_2'}, inplace = True)\n",
    "\n",
    "df.rename(columns = {'Lender Asset Size':'Lender_Asset_Size'}, inplace = True)\n",
    "\n",
    "df.rename(columns = {'CC Amount/TA1':'CC_Amount_BY_TA1'}, inplace = True)"
   ]
  },
  {
   "cell_type": "code",
   "execution_count": 5,
   "metadata": {},
   "outputs": [],
   "source": [
    "df['Amount_in_1000$']  = df['Amount_in_1000$'] .str.replace(',', '')\n",
    "df['Amount_in_1000$_1']  = df['Amount_in_1000$_1'] .str.replace(',', '')\n",
    "df['Amount_in_1000$_2']  = df['Amount_in_1000$_2'] .str.replace(',', '')\n",
    "\n",
    "df['Number']    = df['Number'] .str.replace(',', '')\n",
    "df['Number_1']  = df['Number_1'] .str.replace(',', '')\n",
    "df['Number_2']  = df['Number_2'] .str.replace(',', '')"
   ]
  },
  {
   "cell_type": "code",
   "execution_count": 6,
   "metadata": {},
   "outputs": [],
   "source": [
    "df=df.drop(df.index[0])"
   ]
  },
  {
   "cell_type": "code",
   "execution_count": 7,
   "metadata": {},
   "outputs": [
    {
     "name": "stdout",
     "output_type": "stream",
     "text": [
      "Shape of lending df:  (96, 14)\n"
     ]
    },
    {
     "data": {
      "text/html": [
       "<div>\n",
       "<style scoped>\n",
       "    .dataframe tbody tr th:only-of-type {\n",
       "        vertical-align: middle;\n",
       "    }\n",
       "\n",
       "    .dataframe tbody tr th {\n",
       "        vertical-align: top;\n",
       "    }\n",
       "\n",
       "    .dataframe thead th {\n",
       "        text-align: right;\n",
       "    }\n",
       "</style>\n",
       "<table border=\"1\" class=\"dataframe\">\n",
       "  <thead>\n",
       "    <tr style=\"text-align: right;\">\n",
       "      <th></th>\n",
       "      <th>Name of Lending Institution</th>\n",
       "      <th>HQ State</th>\n",
       "      <th>Rank</th>\n",
       "      <th>TA Ratio1</th>\n",
       "      <th>TBL Ratio1</th>\n",
       "      <th>Amount_in_1000$</th>\n",
       "      <th>Number</th>\n",
       "      <th>Lender_Asset_Size</th>\n",
       "      <th>Amount_in_1000$_1</th>\n",
       "      <th>Number_1</th>\n",
       "      <th>Unnamed: 10</th>\n",
       "      <th>Amount_in_1000$_2</th>\n",
       "      <th>Number_2</th>\n",
       "      <th>CC_Amount_BY_TA1</th>\n",
       "    </tr>\n",
       "  </thead>\n",
       "  <tbody>\n",
       "    <tr>\n",
       "      <th>1</th>\n",
       "      <td>American Express Co.</td>\n",
       "      <td>NY</td>\n",
       "      <td>1</td>\n",
       "      <td>0.238</td>\n",
       "      <td>1.000</td>\n",
       "      <td>16350038</td>\n",
       "      <td>3603226</td>\n",
       "      <td>&gt;$50B</td>\n",
       "      <td>16318089</td>\n",
       "      <td>3603088</td>\n",
       "      <td>NaN</td>\n",
       "      <td>31949</td>\n",
       "      <td>138</td>\n",
       "      <td>0.28</td>\n",
       "    </tr>\n",
       "    <tr>\n",
       "      <th>2</th>\n",
       "      <td>First Citizens Banchares</td>\n",
       "      <td>NC</td>\n",
       "      <td>2</td>\n",
       "      <td>0.187</td>\n",
       "      <td>0.491</td>\n",
       "      <td>3914507</td>\n",
       "      <td>117702</td>\n",
       "      <td>$10B-$50B</td>\n",
       "      <td>378394</td>\n",
       "      <td>105081</td>\n",
       "      <td>NaN</td>\n",
       "      <td>3536113</td>\n",
       "      <td>12621</td>\n",
       "      <td>.</td>\n",
       "    </tr>\n",
       "    <tr>\n",
       "      <th>3</th>\n",
       "      <td>Wintrust Financial Corp.</td>\n",
       "      <td>IL</td>\n",
       "      <td>3</td>\n",
       "      <td>0.169</td>\n",
       "      <td>0.384</td>\n",
       "      <td>2842793</td>\n",
       "      <td>136801</td>\n",
       "      <td>$10B-$50B</td>\n",
       "      <td>800526</td>\n",
       "      <td>126455</td>\n",
       "      <td>NaN</td>\n",
       "      <td>2042267</td>\n",
       "      <td>10346</td>\n",
       "      <td>0</td>\n",
       "    </tr>\n",
       "    <tr>\n",
       "      <th>4</th>\n",
       "      <td>Zions Bancorp</td>\n",
       "      <td>UT</td>\n",
       "      <td>4</td>\n",
       "      <td>0.118</td>\n",
       "      <td>0.261</td>\n",
       "      <td>6231770</td>\n",
       "      <td>52612</td>\n",
       "      <td>&gt;$50B</td>\n",
       "      <td>526206</td>\n",
       "      <td>32973</td>\n",
       "      <td>NaN</td>\n",
       "      <td>5705564</td>\n",
       "      <td>19639</td>\n",
       "      <td>0</td>\n",
       "    </tr>\n",
       "    <tr>\n",
       "      <th>5</th>\n",
       "      <td>Synovus Financial Corp.</td>\n",
       "      <td>GA</td>\n",
       "      <td>5</td>\n",
       "      <td>0.162</td>\n",
       "      <td>0.381</td>\n",
       "      <td>4227168</td>\n",
       "      <td>22675</td>\n",
       "      <td>$10B-$50B</td>\n",
       "      <td>539666</td>\n",
       "      <td>9593</td>\n",
       "      <td>NaN</td>\n",
       "      <td>3687502</td>\n",
       "      <td>13082</td>\n",
       "      <td>0.01</td>\n",
       "    </tr>\n",
       "  </tbody>\n",
       "</table>\n",
       "</div>"
      ],
      "text/plain": [
       "  Name of Lending Institution HQ State Rank TA Ratio1 TBL Ratio1  \\\n",
       "1       American Express Co.       NY     1     0.238      1.000   \n",
       "2    First Citizens Banchares      NC     2     0.187      0.491   \n",
       "3    Wintrust Financial Corp.      IL     3     0.169      0.384   \n",
       "4               Zions Bancorp      UT     4     0.118      0.261   \n",
       "5     Synovus Financial Corp.      GA     5     0.162      0.381   \n",
       "\n",
       "  Amount_in_1000$     Number       Lender_Asset_Size Amount_in_1000$_1  \\\n",
       "1       16350038    3603226    >$50B                         16318089    \n",
       "2        3914507     117702    $10B-$50B                       378394    \n",
       "3        2842793     136801    $10B-$50B                       800526    \n",
       "4        6231770      52612    >$50B                           526206    \n",
       "5        4227168      22675    $10B-$50B                       539666    \n",
       "\n",
       "    Number_1  Unnamed: 10 Amount_in_1000$_2 Number_2 CC_Amount_BY_TA1  \n",
       "1   3603088           NaN            31949      138              0.28  \n",
       "2    105081           NaN          3536113    12621               .    \n",
       "3    126455           NaN          2042267    10346                 0  \n",
       "4     32973           NaN          5705564    19639                 0  \n",
       "5      9593           NaN          3687502    13082              0.01  "
      ]
     },
     "execution_count": 7,
     "metadata": {},
     "output_type": "execute_result"
    }
   ],
   "source": [
    "print(\"Shape of lending df: \",df.shape)\n",
    "df.head()"
   ]
  },
  {
   "cell_type": "code",
   "execution_count": 8,
   "metadata": {},
   "outputs": [
    {
     "data": {
      "text/plain": [
       "Index(['Name of Lending Institution', 'HQ State', 'Rank', 'TA Ratio1',\n",
       "       'TBL Ratio1', 'Amount_in_1000$', 'Number', 'Lender_Asset_Size',\n",
       "       'Amount_in_1000$_1', 'Number_1', 'Unnamed: 10', 'Amount_in_1000$_2',\n",
       "       'Number_2', 'CC_Amount_BY_TA1'],\n",
       "      dtype='object')"
      ]
     },
     "execution_count": 8,
     "metadata": {},
     "output_type": "execute_result"
    }
   ],
   "source": [
    "df.columns"
   ]
  },
  {
   "cell_type": "code",
   "execution_count": 9,
   "metadata": {},
   "outputs": [
    {
     "name": "stdout",
     "output_type": "stream",
     "text": [
      "<class 'pandas.core.frame.DataFrame'>\n",
      "Int64Index: 96 entries, 1 to 96\n",
      "Data columns (total 14 columns):\n",
      " #   Column                       Non-Null Count  Dtype  \n",
      "---  ------                       --------------  -----  \n",
      " 0   Name of Lending Institution  96 non-null     object \n",
      " 1   HQ State                     93 non-null     object \n",
      " 2   Rank                         93 non-null     object \n",
      " 3   TA Ratio1                    93 non-null     object \n",
      " 4   TBL Ratio1                   93 non-null     object \n",
      " 5   Amount_in_1000$              93 non-null     object \n",
      " 6   Number                       93 non-null     object \n",
      " 7   Lender_Asset_Size            93 non-null     object \n",
      " 8   Amount_in_1000$_1            93 non-null     object \n",
      " 9   Number_1                     93 non-null     object \n",
      " 10  Unnamed: 10                  0 non-null      float64\n",
      " 11  Amount_in_1000$_2            93 non-null     object \n",
      " 12  Number_2                     93 non-null     object \n",
      " 13  CC_Amount_BY_TA1             93 non-null     object \n",
      "dtypes: float64(1), object(13)\n",
      "memory usage: 11.2+ KB\n"
     ]
    }
   ],
   "source": [
    "df.info()"
   ]
  },
  {
   "cell_type": "code",
   "execution_count": 10,
   "metadata": {},
   "outputs": [
    {
     "data": {
      "text/plain": [
       "1    NaN\n",
       "2    NaN\n",
       "3    NaN\n",
       "4    NaN\n",
       "5    NaN\n",
       "      ..\n",
       "92   NaN\n",
       "93   NaN\n",
       "94   NaN\n",
       "95   NaN\n",
       "96   NaN\n",
       "Name: Unnamed: 10, Length: 96, dtype: float64"
      ]
     },
     "execution_count": 10,
     "metadata": {},
     "output_type": "execute_result"
    }
   ],
   "source": [
    "df.pop('Unnamed: 10')"
   ]
  },
  {
   "cell_type": "code",
   "execution_count": 11,
   "metadata": {},
   "outputs": [
    {
     "data": {
      "text/plain": [
       "(96, 13)"
      ]
     },
     "execution_count": 11,
     "metadata": {},
     "output_type": "execute_result"
    }
   ],
   "source": [
    "df.shape"
   ]
  },
  {
   "cell_type": "code",
   "execution_count": 12,
   "metadata": {},
   "outputs": [
    {
     "data": {
      "text/plain": [
       "{'NR': 5,\n",
       " '19': 3,\n",
       " '13': 2,\n",
       " '40': 2,\n",
       " '67': 2,\n",
       " '34': 2,\n",
       " '8': 2,\n",
       " '11': 2,\n",
       " '88': 1,\n",
       " '10': 1,\n",
       " '59': 1,\n",
       " '48': 1,\n",
       " '80': 1,\n",
       " '54': 1,\n",
       " '63': 1,\n",
       " '4': 1,\n",
       " '71': 1,\n",
       " '45': 1,\n",
       " '7': 1,\n",
       " '49': 1,\n",
       " '58': 1,\n",
       " '1': 1,\n",
       " '27': 1,\n",
       " '29': 1,\n",
       " '79': 1,\n",
       " '53': 1,\n",
       " '51': 1,\n",
       " '46': 1,\n",
       " '55': 1,\n",
       " '42': 1,\n",
       " '6': 1,\n",
       " '43': 1,\n",
       " '66': 1,\n",
       " '31': 1,\n",
       " '56': 1,\n",
       " '65': 1,\n",
       " '22': 1,\n",
       " '38': 1,\n",
       " '69': 1,\n",
       " '78': 1,\n",
       " '33': 1,\n",
       " '52': 1,\n",
       " '60': 1,\n",
       " '76': 1,\n",
       " '18': 1,\n",
       " '30': 1,\n",
       " '77': 1,\n",
       " '50': 1,\n",
       " '26': 1,\n",
       " '47': 1,\n",
       " '15': 1,\n",
       " '73': 1,\n",
       " '70': 1,\n",
       " '25': 1,\n",
       " '16': 1,\n",
       " '5': 1,\n",
       " '28': 1,\n",
       " '32': 1,\n",
       " '24': 1,\n",
       " '86': 1,\n",
       " '75': 1,\n",
       " '17': 1,\n",
       " '85': 1,\n",
       " '37': 1,\n",
       " '72': 1,\n",
       " '61': 1,\n",
       " '64': 1,\n",
       " '44': 1,\n",
       " '82': 1,\n",
       " '36': 1,\n",
       " '2': 1,\n",
       " '3': 1,\n",
       " '83': 1,\n",
       " '57': 1,\n",
       " '23': 1,\n",
       " '39': 1,\n",
       " '84': 1,\n",
       " '62': 1,\n",
       " '74': 1,\n",
       " '81': 1,\n",
       " '87': 1}"
      ]
     },
     "execution_count": 12,
     "metadata": {},
     "output_type": "execute_result"
    }
   ],
   "source": [
    "dict(df['Rank'].value_counts())"
   ]
  },
  {
   "cell_type": "code",
   "execution_count": 13,
   "metadata": {},
   "outputs": [
    {
     "data": {
      "text/plain": [
       "Name of Lending Institution    0\n",
       "HQ State                       3\n",
       "Rank                           3\n",
       "TA Ratio1                      3\n",
       "TBL Ratio1                     3\n",
       "Amount_in_1000$                3\n",
       "Number                         3\n",
       "Lender_Asset_Size              3\n",
       "Amount_in_1000$_1              3\n",
       "Number_1                       3\n",
       "Amount_in_1000$_2              3\n",
       "Number_2                       3\n",
       "CC_Amount_BY_TA1               3\n",
       "dtype: int64"
      ]
     },
     "execution_count": 13,
     "metadata": {},
     "output_type": "execute_result"
    }
   ],
   "source": [
    "df.isnull().sum()"
   ]
  },
  {
   "cell_type": "code",
   "execution_count": 14,
   "metadata": {},
   "outputs": [],
   "source": [
    "df['Rank'].replace({'NR':0,np.nan:0},inplace = True)"
   ]
  },
  {
   "cell_type": "code",
   "execution_count": 15,
   "metadata": {},
   "outputs": [],
   "source": [
    "df['Rank'] = pd.to_numeric(df['Rank'])"
   ]
  },
  {
   "cell_type": "code",
   "execution_count": 16,
   "metadata": {},
   "outputs": [],
   "source": [
    "df['TA Ratio1'].replace({'-':0,np.nan:0},inplace = True)"
   ]
  },
  {
   "cell_type": "code",
   "execution_count": 17,
   "metadata": {},
   "outputs": [],
   "source": [
    "df['TA Ratio1'] = pd.to_numeric(df['TA Ratio1'])"
   ]
  },
  {
   "cell_type": "code",
   "execution_count": 18,
   "metadata": {},
   "outputs": [],
   "source": [
    "df['TBL Ratio1'].replace({'-':0,np.nan:0},inplace = True)"
   ]
  },
  {
   "cell_type": "code",
   "execution_count": 19,
   "metadata": {},
   "outputs": [],
   "source": [
    "df['TBL Ratio1'] = pd.to_numeric(df['TBL Ratio1'])"
   ]
  },
  {
   "cell_type": "code",
   "execution_count": 20,
   "metadata": {},
   "outputs": [],
   "source": [
    "df['Amount_in_1000$'].replace({'-':0,np.nan:0,' -   ':0},inplace = True)"
   ]
  },
  {
   "cell_type": "code",
   "execution_count": 21,
   "metadata": {},
   "outputs": [],
   "source": [
    "df['Amount_in_1000$'] = pd.to_numeric(df['Amount_in_1000$'])"
   ]
  },
  {
   "cell_type": "code",
   "execution_count": 22,
   "metadata": {},
   "outputs": [],
   "source": [
    "df['Number'].replace({'-':0,np.nan:0},inplace = True)"
   ]
  },
  {
   "cell_type": "code",
   "execution_count": 23,
   "metadata": {},
   "outputs": [],
   "source": [
    "df['Number'] = pd.to_numeric(df['Number'])"
   ]
  },
  {
   "cell_type": "code",
   "execution_count": 24,
   "metadata": {},
   "outputs": [],
   "source": [
    "df['Amount_in_1000$_1'].replace({'-':0,np.nan:0,' -   ':0},inplace = True)"
   ]
  },
  {
   "cell_type": "code",
   "execution_count": 25,
   "metadata": {},
   "outputs": [],
   "source": [
    "df['Amount_in_1000$_1'] = pd.to_numeric(df['Amount_in_1000$_1'])"
   ]
  },
  {
   "cell_type": "code",
   "execution_count": 26,
   "metadata": {},
   "outputs": [],
   "source": [
    "df['Number_1'].replace({'-':0,np.nan:0,' -   ':0},inplace = True)"
   ]
  },
  {
   "cell_type": "code",
   "execution_count": 27,
   "metadata": {},
   "outputs": [],
   "source": [
    "df['Number_1'] = pd.to_numeric(df['Number_1'])"
   ]
  },
  {
   "cell_type": "code",
   "execution_count": 28,
   "metadata": {},
   "outputs": [],
   "source": [
    "df['Amount_in_1000$_2'].replace({'-':0,np.nan:0,' -   ':0},inplace = True)"
   ]
  },
  {
   "cell_type": "code",
   "execution_count": 29,
   "metadata": {},
   "outputs": [],
   "source": [
    "df['Amount_in_1000$_2'] = pd.to_numeric(df['Amount_in_1000$_2'])"
   ]
  },
  {
   "cell_type": "code",
   "execution_count": 30,
   "metadata": {},
   "outputs": [],
   "source": [
    "df['Number_2'].replace({'-':0,np.nan:0,' -   ':0},inplace = True)"
   ]
  },
  {
   "cell_type": "code",
   "execution_count": 31,
   "metadata": {},
   "outputs": [],
   "source": [
    "df['Number_2'] = pd.to_numeric(df['Number_2'])"
   ]
  },
  {
   "cell_type": "code",
   "execution_count": 32,
   "metadata": {},
   "outputs": [
    {
     "name": "stdout",
     "output_type": "stream",
     "text": [
      "<class 'pandas.core.frame.DataFrame'>\n",
      "Int64Index: 96 entries, 1 to 96\n",
      "Data columns (total 13 columns):\n",
      " #   Column                       Non-Null Count  Dtype  \n",
      "---  ------                       --------------  -----  \n",
      " 0   Name of Lending Institution  96 non-null     object \n",
      " 1   HQ State                     93 non-null     object \n",
      " 2   Rank                         96 non-null     int64  \n",
      " 3   TA Ratio1                    96 non-null     float64\n",
      " 4   TBL Ratio1                   96 non-null     float64\n",
      " 5   Amount_in_1000$              96 non-null     int64  \n",
      " 6   Number                       96 non-null     int64  \n",
      " 7   Lender_Asset_Size            93 non-null     object \n",
      " 8   Amount_in_1000$_1            96 non-null     int64  \n",
      " 9   Number_1                     96 non-null     int64  \n",
      " 10  Amount_in_1000$_2            96 non-null     int64  \n",
      " 11  Number_2                     96 non-null     int64  \n",
      " 12  CC_Amount_BY_TA1             93 non-null     object \n",
      "dtypes: float64(2), int64(7), object(4)\n",
      "memory usage: 10.5+ KB\n"
     ]
    }
   ],
   "source": [
    "df.info()"
   ]
  },
  {
   "cell_type": "code",
   "execution_count": 33,
   "metadata": {},
   "outputs": [
    {
     "data": {
      "text/html": [
       "<div>\n",
       "<style scoped>\n",
       "    .dataframe tbody tr th:only-of-type {\n",
       "        vertical-align: middle;\n",
       "    }\n",
       "\n",
       "    .dataframe tbody tr th {\n",
       "        vertical-align: top;\n",
       "    }\n",
       "\n",
       "    .dataframe thead th {\n",
       "        text-align: right;\n",
       "    }\n",
       "</style>\n",
       "<table border=\"1\" class=\"dataframe\">\n",
       "  <thead>\n",
       "    <tr style=\"text-align: right;\">\n",
       "      <th></th>\n",
       "      <th>Name of Lending Institution</th>\n",
       "      <th>HQ State</th>\n",
       "      <th>Rank</th>\n",
       "      <th>TA Ratio1</th>\n",
       "      <th>TBL Ratio1</th>\n",
       "      <th>Amount_in_1000$</th>\n",
       "      <th>Number</th>\n",
       "      <th>Lender_Asset_Size</th>\n",
       "      <th>Amount_in_1000$_1</th>\n",
       "      <th>Number_1</th>\n",
       "      <th>Amount_in_1000$_2</th>\n",
       "      <th>Number_2</th>\n",
       "      <th>CC_Amount_BY_TA1</th>\n",
       "    </tr>\n",
       "  </thead>\n",
       "  <tbody>\n",
       "    <tr>\n",
       "      <th>1</th>\n",
       "      <td>American Express Co.</td>\n",
       "      <td>NY</td>\n",
       "      <td>1</td>\n",
       "      <td>0.238</td>\n",
       "      <td>1.000</td>\n",
       "      <td>16350038</td>\n",
       "      <td>3603226</td>\n",
       "      <td>&gt;$50B</td>\n",
       "      <td>16318089</td>\n",
       "      <td>3603088</td>\n",
       "      <td>31949</td>\n",
       "      <td>138</td>\n",
       "      <td>0.28</td>\n",
       "    </tr>\n",
       "    <tr>\n",
       "      <th>2</th>\n",
       "      <td>First Citizens Banchares</td>\n",
       "      <td>NC</td>\n",
       "      <td>2</td>\n",
       "      <td>0.187</td>\n",
       "      <td>0.491</td>\n",
       "      <td>3914507</td>\n",
       "      <td>117702</td>\n",
       "      <td>$10B-$50B</td>\n",
       "      <td>378394</td>\n",
       "      <td>105081</td>\n",
       "      <td>3536113</td>\n",
       "      <td>12621</td>\n",
       "      <td>.</td>\n",
       "    </tr>\n",
       "    <tr>\n",
       "      <th>3</th>\n",
       "      <td>Wintrust Financial Corp.</td>\n",
       "      <td>IL</td>\n",
       "      <td>3</td>\n",
       "      <td>0.169</td>\n",
       "      <td>0.384</td>\n",
       "      <td>2842793</td>\n",
       "      <td>136801</td>\n",
       "      <td>$10B-$50B</td>\n",
       "      <td>800526</td>\n",
       "      <td>126455</td>\n",
       "      <td>2042267</td>\n",
       "      <td>10346</td>\n",
       "      <td>0</td>\n",
       "    </tr>\n",
       "    <tr>\n",
       "      <th>4</th>\n",
       "      <td>Zions Bancorp</td>\n",
       "      <td>UT</td>\n",
       "      <td>4</td>\n",
       "      <td>0.118</td>\n",
       "      <td>0.261</td>\n",
       "      <td>6231770</td>\n",
       "      <td>52612</td>\n",
       "      <td>&gt;$50B</td>\n",
       "      <td>526206</td>\n",
       "      <td>32973</td>\n",
       "      <td>5705564</td>\n",
       "      <td>19639</td>\n",
       "      <td>0</td>\n",
       "    </tr>\n",
       "    <tr>\n",
       "      <th>5</th>\n",
       "      <td>Synovus Financial Corp.</td>\n",
       "      <td>GA</td>\n",
       "      <td>5</td>\n",
       "      <td>0.162</td>\n",
       "      <td>0.381</td>\n",
       "      <td>4227168</td>\n",
       "      <td>22675</td>\n",
       "      <td>$10B-$50B</td>\n",
       "      <td>539666</td>\n",
       "      <td>9593</td>\n",
       "      <td>3687502</td>\n",
       "      <td>13082</td>\n",
       "      <td>0.01</td>\n",
       "    </tr>\n",
       "  </tbody>\n",
       "</table>\n",
       "</div>"
      ],
      "text/plain": [
       "  Name of Lending Institution HQ State  Rank  TA Ratio1  TBL Ratio1  \\\n",
       "1       American Express Co.       NY      1      0.238       1.000   \n",
       "2    First Citizens Banchares      NC      2      0.187       0.491   \n",
       "3    Wintrust Financial Corp.      IL      3      0.169       0.384   \n",
       "4               Zions Bancorp      UT      4      0.118       0.261   \n",
       "5     Synovus Financial Corp.      GA      5      0.162       0.381   \n",
       "\n",
       "   Amount_in_1000$   Number       Lender_Asset_Size  Amount_in_1000$_1  \\\n",
       "1         16350038  3603226   >$50B                           16318089   \n",
       "2          3914507   117702   $10B-$50B                         378394   \n",
       "3          2842793   136801   $10B-$50B                         800526   \n",
       "4          6231770    52612   >$50B                             526206   \n",
       "5          4227168    22675   $10B-$50B                         539666   \n",
       "\n",
       "   Number_1  Amount_in_1000$_2  Number_2 CC_Amount_BY_TA1  \n",
       "1   3603088              31949       138             0.28  \n",
       "2    105081            3536113     12621              .    \n",
       "3    126455            2042267     10346                0  \n",
       "4     32973            5705564     19639                0  \n",
       "5      9593            3687502     13082             0.01  "
      ]
     },
     "execution_count": 33,
     "metadata": {},
     "output_type": "execute_result"
    }
   ],
   "source": [
    "df.head()"
   ]
  },
  {
   "cell_type": "code",
   "execution_count": 34,
   "metadata": {},
   "outputs": [
    {
     "data": {
      "text/html": [
       "<div>\n",
       "<style scoped>\n",
       "    .dataframe tbody tr th:only-of-type {\n",
       "        vertical-align: middle;\n",
       "    }\n",
       "\n",
       "    .dataframe tbody tr th {\n",
       "        vertical-align: top;\n",
       "    }\n",
       "\n",
       "    .dataframe thead th {\n",
       "        text-align: right;\n",
       "    }\n",
       "</style>\n",
       "<table border=\"1\" class=\"dataframe\">\n",
       "  <thead>\n",
       "    <tr style=\"text-align: right;\">\n",
       "      <th></th>\n",
       "      <th>Rank</th>\n",
       "      <th>TA Ratio1</th>\n",
       "      <th>TBL Ratio1</th>\n",
       "      <th>Amount_in_1000$</th>\n",
       "      <th>Number</th>\n",
       "      <th>Amount_in_1000$_1</th>\n",
       "      <th>Number_1</th>\n",
       "      <th>Amount_in_1000$_2</th>\n",
       "      <th>Number_2</th>\n",
       "    </tr>\n",
       "  </thead>\n",
       "  <tbody>\n",
       "    <tr>\n",
       "      <th>count</th>\n",
       "      <td>96.000000</td>\n",
       "      <td>96.000000</td>\n",
       "      <td>96.000000</td>\n",
       "      <td>9.600000e+01</td>\n",
       "      <td>9.600000e+01</td>\n",
       "      <td>9.600000e+01</td>\n",
       "      <td>9.600000e+01</td>\n",
       "      <td>9.600000e+01</td>\n",
       "      <td>96.000000</td>\n",
       "    </tr>\n",
       "    <tr>\n",
       "      <th>mean</th>\n",
       "      <td>40.697917</td>\n",
       "      <td>0.045094</td>\n",
       "      <td>0.230313</td>\n",
       "      <td>2.952567e+06</td>\n",
       "      <td>2.006384e+05</td>\n",
       "      <td>9.712989e+05</td>\n",
       "      <td>1.923886e+05</td>\n",
       "      <td>1.981268e+06</td>\n",
       "      <td>8249.833333</td>\n",
       "    </tr>\n",
       "    <tr>\n",
       "      <th>std</th>\n",
       "      <td>27.446837</td>\n",
       "      <td>0.045020</td>\n",
       "      <td>0.230731</td>\n",
       "      <td>5.812881e+06</td>\n",
       "      <td>6.639000e+05</td>\n",
       "      <td>2.792406e+06</td>\n",
       "      <td>6.575678e+05</td>\n",
       "      <td>3.652235e+06</td>\n",
       "      <td>14898.786701</td>\n",
       "    </tr>\n",
       "    <tr>\n",
       "      <th>min</th>\n",
       "      <td>0.000000</td>\n",
       "      <td>0.000000</td>\n",
       "      <td>0.000000</td>\n",
       "      <td>0.000000e+00</td>\n",
       "      <td>0.000000e+00</td>\n",
       "      <td>0.000000e+00</td>\n",
       "      <td>0.000000e+00</td>\n",
       "      <td>0.000000e+00</td>\n",
       "      <td>0.000000</td>\n",
       "    </tr>\n",
       "    <tr>\n",
       "      <th>25%</th>\n",
       "      <td>16.750000</td>\n",
       "      <td>0.011000</td>\n",
       "      <td>0.087250</td>\n",
       "      <td>2.437332e+05</td>\n",
       "      <td>1.676250e+03</td>\n",
       "      <td>1.676275e+04</td>\n",
       "      <td>4.335000e+02</td>\n",
       "      <td>1.633582e+05</td>\n",
       "      <td>507.750000</td>\n",
       "    </tr>\n",
       "    <tr>\n",
       "      <th>50%</th>\n",
       "      <td>40.000000</td>\n",
       "      <td>0.036000</td>\n",
       "      <td>0.185500</td>\n",
       "      <td>1.120101e+06</td>\n",
       "      <td>1.232800e+04</td>\n",
       "      <td>1.134570e+05</td>\n",
       "      <td>6.975500e+03</td>\n",
       "      <td>7.649140e+05</td>\n",
       "      <td>2992.500000</td>\n",
       "    </tr>\n",
       "    <tr>\n",
       "      <th>75%</th>\n",
       "      <td>64.250000</td>\n",
       "      <td>0.065250</td>\n",
       "      <td>0.261250</td>\n",
       "      <td>2.840470e+06</td>\n",
       "      <td>4.831825e+04</td>\n",
       "      <td>5.269600e+05</td>\n",
       "      <td>3.299625e+04</td>\n",
       "      <td>2.216538e+06</td>\n",
       "      <td>10606.000000</td>\n",
       "    </tr>\n",
       "    <tr>\n",
       "      <th>max</th>\n",
       "      <td>88.000000</td>\n",
       "      <td>0.238000</td>\n",
       "      <td>1.000000</td>\n",
       "      <td>3.457039e+07</td>\n",
       "      <td>3.603226e+06</td>\n",
       "      <td>1.631809e+07</td>\n",
       "      <td>3.603088e+06</td>\n",
       "      <td>2.615439e+07</td>\n",
       "      <td>107411.000000</td>\n",
       "    </tr>\n",
       "  </tbody>\n",
       "</table>\n",
       "</div>"
      ],
      "text/plain": [
       "            Rank  TA Ratio1  TBL Ratio1  Amount_in_1000$        Number  \\\n",
       "count  96.000000  96.000000   96.000000     9.600000e+01  9.600000e+01   \n",
       "mean   40.697917   0.045094    0.230313     2.952567e+06  2.006384e+05   \n",
       "std    27.446837   0.045020    0.230731     5.812881e+06  6.639000e+05   \n",
       "min     0.000000   0.000000    0.000000     0.000000e+00  0.000000e+00   \n",
       "25%    16.750000   0.011000    0.087250     2.437332e+05  1.676250e+03   \n",
       "50%    40.000000   0.036000    0.185500     1.120101e+06  1.232800e+04   \n",
       "75%    64.250000   0.065250    0.261250     2.840470e+06  4.831825e+04   \n",
       "max    88.000000   0.238000    1.000000     3.457039e+07  3.603226e+06   \n",
       "\n",
       "       Amount_in_1000$_1      Number_1  Amount_in_1000$_2       Number_2  \n",
       "count       9.600000e+01  9.600000e+01       9.600000e+01      96.000000  \n",
       "mean        9.712989e+05  1.923886e+05       1.981268e+06    8249.833333  \n",
       "std         2.792406e+06  6.575678e+05       3.652235e+06   14898.786701  \n",
       "min         0.000000e+00  0.000000e+00       0.000000e+00       0.000000  \n",
       "25%         1.676275e+04  4.335000e+02       1.633582e+05     507.750000  \n",
       "50%         1.134570e+05  6.975500e+03       7.649140e+05    2992.500000  \n",
       "75%         5.269600e+05  3.299625e+04       2.216538e+06   10606.000000  \n",
       "max         1.631809e+07  3.603088e+06       2.615439e+07  107411.000000  "
      ]
     },
     "execution_count": 34,
     "metadata": {},
     "output_type": "execute_result"
    }
   ],
   "source": [
    "df.describe()"
   ]
  },
  {
   "cell_type": "code",
   "execution_count": 35,
   "metadata": {},
   "outputs": [],
   "source": [
    "Rm   = df['Rank'].mean()\n",
    "TAm  = df['TA Ratio1'].mean()\n",
    "TBLm = df['TBL Ratio1'].mean()\n",
    "Am   = df['Amount_in_1000$'].mean()\n",
    "Nm   = df['Number'].mean()\n",
    "A_1m = df['Amount_in_1000$_1'].mean()\n",
    "N_1m = df['Number_1'].mean()\n",
    "A_2m = df['Amount_in_1000$_2'].mean()\n",
    "N_2m = df['Number_2'].mean()"
   ]
  },
  {
   "cell_type": "code",
   "execution_count": 36,
   "metadata": {},
   "outputs": [],
   "source": [
    "#df['Rank'] = df['Rank'].replace(0,Rm) "
   ]
  },
  {
   "cell_type": "code",
   "execution_count": 37,
   "metadata": {},
   "outputs": [],
   "source": [
    "df['TA Ratio1']         = df['TA Ratio1'].replace(0,TAm)\n",
    "df['TBL Ratio1']        = df['TBL Ratio1'].replace(0,TBLm)\n",
    "df['Amount_in_1000$']   = df['Amount_in_1000$'].replace(0,Am)\n",
    "df['Number']            = df['Number'].replace(0,Nm)\n",
    "df['Amount_in_1000$_1'] = df['Amount_in_1000$_1'].replace(0,A_1m)\n",
    "df['Number_1']          = df['Number_1'].replace(0,N_1m)\n",
    "df['Amount_in_1000$_2'] = df['Amount_in_1000$_2'].replace(0,A_2m)\n",
    "df['Number_2']          = df['Number_2'].replace(0,N_2m)"
   ]
  },
  {
   "cell_type": "code",
   "execution_count": 38,
   "metadata": {},
   "outputs": [
    {
     "data": {
      "text/html": [
       "<div>\n",
       "<style scoped>\n",
       "    .dataframe tbody tr th:only-of-type {\n",
       "        vertical-align: middle;\n",
       "    }\n",
       "\n",
       "    .dataframe tbody tr th {\n",
       "        vertical-align: top;\n",
       "    }\n",
       "\n",
       "    .dataframe thead th {\n",
       "        text-align: right;\n",
       "    }\n",
       "</style>\n",
       "<table border=\"1\" class=\"dataframe\">\n",
       "  <thead>\n",
       "    <tr style=\"text-align: right;\">\n",
       "      <th></th>\n",
       "      <th>Name of Lending Institution</th>\n",
       "      <th>HQ State</th>\n",
       "      <th>Rank</th>\n",
       "      <th>TA Ratio1</th>\n",
       "      <th>TBL Ratio1</th>\n",
       "      <th>Amount_in_1000$</th>\n",
       "      <th>Number</th>\n",
       "      <th>Lender_Asset_Size</th>\n",
       "      <th>Amount_in_1000$_1</th>\n",
       "      <th>Number_1</th>\n",
       "      <th>Amount_in_1000$_2</th>\n",
       "      <th>Number_2</th>\n",
       "      <th>CC_Amount_BY_TA1</th>\n",
       "    </tr>\n",
       "  </thead>\n",
       "  <tbody>\n",
       "    <tr>\n",
       "      <th>1</th>\n",
       "      <td>American Express Co.</td>\n",
       "      <td>NY</td>\n",
       "      <td>1</td>\n",
       "      <td>0.238</td>\n",
       "      <td>1.000</td>\n",
       "      <td>16350038.0</td>\n",
       "      <td>3603226.0</td>\n",
       "      <td>&gt;$50B</td>\n",
       "      <td>16318089.0</td>\n",
       "      <td>3603088.0</td>\n",
       "      <td>31949.0</td>\n",
       "      <td>138.0</td>\n",
       "      <td>0.28</td>\n",
       "    </tr>\n",
       "    <tr>\n",
       "      <th>2</th>\n",
       "      <td>First Citizens Banchares</td>\n",
       "      <td>NC</td>\n",
       "      <td>2</td>\n",
       "      <td>0.187</td>\n",
       "      <td>0.491</td>\n",
       "      <td>3914507.0</td>\n",
       "      <td>117702.0</td>\n",
       "      <td>$10B-$50B</td>\n",
       "      <td>378394.0</td>\n",
       "      <td>105081.0</td>\n",
       "      <td>3536113.0</td>\n",
       "      <td>12621.0</td>\n",
       "      <td>.</td>\n",
       "    </tr>\n",
       "    <tr>\n",
       "      <th>3</th>\n",
       "      <td>Wintrust Financial Corp.</td>\n",
       "      <td>IL</td>\n",
       "      <td>3</td>\n",
       "      <td>0.169</td>\n",
       "      <td>0.384</td>\n",
       "      <td>2842793.0</td>\n",
       "      <td>136801.0</td>\n",
       "      <td>$10B-$50B</td>\n",
       "      <td>800526.0</td>\n",
       "      <td>126455.0</td>\n",
       "      <td>2042267.0</td>\n",
       "      <td>10346.0</td>\n",
       "      <td>0</td>\n",
       "    </tr>\n",
       "    <tr>\n",
       "      <th>4</th>\n",
       "      <td>Zions Bancorp</td>\n",
       "      <td>UT</td>\n",
       "      <td>4</td>\n",
       "      <td>0.118</td>\n",
       "      <td>0.261</td>\n",
       "      <td>6231770.0</td>\n",
       "      <td>52612.0</td>\n",
       "      <td>&gt;$50B</td>\n",
       "      <td>526206.0</td>\n",
       "      <td>32973.0</td>\n",
       "      <td>5705564.0</td>\n",
       "      <td>19639.0</td>\n",
       "      <td>0</td>\n",
       "    </tr>\n",
       "    <tr>\n",
       "      <th>5</th>\n",
       "      <td>Synovus Financial Corp.</td>\n",
       "      <td>GA</td>\n",
       "      <td>5</td>\n",
       "      <td>0.162</td>\n",
       "      <td>0.381</td>\n",
       "      <td>4227168.0</td>\n",
       "      <td>22675.0</td>\n",
       "      <td>$10B-$50B</td>\n",
       "      <td>539666.0</td>\n",
       "      <td>9593.0</td>\n",
       "      <td>3687502.0</td>\n",
       "      <td>13082.0</td>\n",
       "      <td>0.01</td>\n",
       "    </tr>\n",
       "  </tbody>\n",
       "</table>\n",
       "</div>"
      ],
      "text/plain": [
       "  Name of Lending Institution HQ State  Rank  TA Ratio1  TBL Ratio1  \\\n",
       "1       American Express Co.       NY      1      0.238       1.000   \n",
       "2    First Citizens Banchares      NC      2      0.187       0.491   \n",
       "3    Wintrust Financial Corp.      IL      3      0.169       0.384   \n",
       "4               Zions Bancorp      UT      4      0.118       0.261   \n",
       "5     Synovus Financial Corp.      GA      5      0.162       0.381   \n",
       "\n",
       "   Amount_in_1000$     Number       Lender_Asset_Size  Amount_in_1000$_1  \\\n",
       "1       16350038.0  3603226.0   >$50B                         16318089.0   \n",
       "2        3914507.0   117702.0   $10B-$50B                       378394.0   \n",
       "3        2842793.0   136801.0   $10B-$50B                       800526.0   \n",
       "4        6231770.0    52612.0   >$50B                           526206.0   \n",
       "5        4227168.0    22675.0   $10B-$50B                       539666.0   \n",
       "\n",
       "    Number_1  Amount_in_1000$_2  Number_2 CC_Amount_BY_TA1  \n",
       "1  3603088.0            31949.0     138.0             0.28  \n",
       "2   105081.0          3536113.0   12621.0              .    \n",
       "3   126455.0          2042267.0   10346.0                0  \n",
       "4    32973.0          5705564.0   19639.0                0  \n",
       "5     9593.0          3687502.0   13082.0             0.01  "
      ]
     },
     "execution_count": 38,
     "metadata": {},
     "output_type": "execute_result"
    }
   ],
   "source": [
    "df.head()"
   ]
  },
  {
   "cell_type": "code",
   "execution_count": 39,
   "metadata": {},
   "outputs": [
    {
     "data": {
      "text/plain": [
       "{' $10B-$50B            ': 43,\n",
       " ' >$50B                ': 31,\n",
       " ' >$10B                ': 15,\n",
       " '>$10B               ': 3,\n",
       " '>$50B               ': 1}"
      ]
     },
     "execution_count": 39,
     "metadata": {},
     "output_type": "execute_result"
    }
   ],
   "source": [
    "dict(df['Lender_Asset_Size'].value_counts())\n",
    "# df['Lender_Asset_Size'].replace({'NR':0,np.nan:0},inplace = True)"
   ]
  },
  {
   "cell_type": "code",
   "execution_count": 40,
   "metadata": {},
   "outputs": [],
   "source": [
    "''' \n",
    "0 == >$10B,\n",
    "1 == $10B-$50B,\n",
    "2 == >$50B == 2 \n",
    "    \n",
    "'''\n",
    "\n",
    "# df['Lender_Asset_Size'].loc[df['Lender_Asset_Size'] == '>$10B               ' or \n",
    "                           # df['Lender_Asset_Size'] == ' >$10B                ']\n",
    "\n",
    "df.loc[(df.Lender_Asset_Size == '>$10B               '),'Lender_Asset_Size'] = '0'\n",
    "df.loc[(df.Lender_Asset_Size == ' >$10B                '),'Lender_Asset_Size'] = '0'\n",
    "\n",
    "df.loc[(df.Lender_Asset_Size == ' $10B-$50B            '),'Lender_Asset_Size'] = '1'\n",
    "\n",
    "df.loc[(df.Lender_Asset_Size == '>$50B               '),'Lender_Asset_Size'] = '2'\n",
    "df.loc[(df.Lender_Asset_Size == ' >$50B                '),'Lender_Asset_Size'] = '2'\n"
   ]
  },
  {
   "cell_type": "code",
   "execution_count": 41,
   "metadata": {},
   "outputs": [
    {
     "data": {
      "text/plain": [
       "{'1': 43, '2': 32, '0': 18}"
      ]
     },
     "execution_count": 41,
     "metadata": {},
     "output_type": "execute_result"
    }
   ],
   "source": [
    "dict(df['Lender_Asset_Size'].value_counts())"
   ]
  },
  {
   "cell_type": "code",
   "execution_count": 42,
   "metadata": {},
   "outputs": [
    {
     "data": {
      "text/plain": [
       "{'    .  ': 47,\n",
       " '0': 30,\n",
       " '0.01': 7,\n",
       " '0.03': 2,\n",
       " '0.25': 1,\n",
       " '0.06': 1,\n",
       " '0.02': 1,\n",
       " '0.07': 1,\n",
       " '0.1': 1,\n",
       " '0.05': 1,\n",
       " '0.28': 1}"
      ]
     },
     "execution_count": 42,
     "metadata": {},
     "output_type": "execute_result"
    }
   ],
   "source": [
    "dict(df['CC_Amount_BY_TA1'].value_counts())"
   ]
  },
  {
   "cell_type": "code",
   "execution_count": 43,
   "metadata": {},
   "outputs": [],
   "source": [
    "df['CC_Amount_BY_TA1'].replace({'-':0,np.nan:0,' -   ':0,'    .  ':0},inplace = True)"
   ]
  },
  {
   "cell_type": "code",
   "execution_count": 44,
   "metadata": {},
   "outputs": [],
   "source": [
    "df['CC_Amount_BY_TA1'] = pd.to_numeric(df['CC_Amount_BY_TA1'])"
   ]
  },
  {
   "cell_type": "code",
   "execution_count": 45,
   "metadata": {},
   "outputs": [],
   "source": [
    "CC_m = df['CC_Amount_BY_TA1'].mean()"
   ]
  },
  {
   "cell_type": "code",
   "execution_count": 46,
   "metadata": {},
   "outputs": [],
   "source": [
    "df['CC_Amount_BY_TA1'] = df['CC_Amount_BY_TA1'].replace(0,CC_m)"
   ]
  },
  {
   "cell_type": "code",
   "execution_count": 47,
   "metadata": {},
   "outputs": [],
   "source": [
    "df.to_csv('lending_cleaned.csv', index=False)"
   ]
  },
  {
   "cell_type": "code",
   "execution_count": null,
   "metadata": {},
   "outputs": [],
   "source": []
  },
  {
   "cell_type": "code",
   "execution_count": null,
   "metadata": {},
   "outputs": [],
   "source": []
  }
 ],
 "metadata": {
  "kernelspec": {
   "display_name": "Python 3",
   "language": "python",
   "name": "python3"
  },
  "language_info": {
   "codemirror_mode": {
    "name": "ipython",
    "version": 3
   },
   "file_extension": ".py",
   "mimetype": "text/x-python",
   "name": "python",
   "nbconvert_exporter": "python",
   "pygments_lexer": "ipython3",
   "version": "3.7.1"
  }
 },
 "nbformat": 4,
 "nbformat_minor": 4
}
